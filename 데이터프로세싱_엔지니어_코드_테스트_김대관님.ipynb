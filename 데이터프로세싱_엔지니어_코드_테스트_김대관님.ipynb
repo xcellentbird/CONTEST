{
  "nbformat": 4,
  "nbformat_minor": 0,
  "metadata": {
    "colab": {
      "name": "데이터프로세싱 엔지니어 코드 테스트_김대관님",
      "provenance": [],
      "collapsed_sections": [],
      "include_colab_link": true
    },
    "kernelspec": {
      "name": "python3",
      "display_name": "Python 3"
    },
    "language_info": {
      "name": "python"
    }
  },
  "cells": [
    {
      "cell_type": "markdown",
      "metadata": {
        "id": "view-in-github",
        "colab_type": "text"
      },
      "source": [
        "<a href=\"https://colab.research.google.com/github/xcellentbird/CONTEST/blob/main/%EB%8D%B0%EC%9D%B4%ED%84%B0%ED%94%84%EB%A1%9C%EC%84%B8%EC%8B%B1_%EC%97%94%EC%A7%80%EB%8B%88%EC%96%B4_%EC%BD%94%EB%93%9C_%ED%85%8C%EC%8A%A4%ED%8A%B8_%EA%B9%80%EB%8C%80%EA%B4%80%EB%8B%98.ipynb\" target=\"_parent\"><img src=\"https://colab.research.google.com/assets/colab-badge.svg\" alt=\"Open In Colab\"/></a>"
      ]
    },
    {
      "cell_type": "markdown",
      "metadata": {
        "id": "KfXSiR5W4AJh"
      },
      "source": [
        "# *** *! 문제 파일, 예시 입출력 파일 다운로드 부분은 해당 내용을 실행을 해야 다운로드되도록 되어 있습니다. 실행하셔서 다운로드 받으세요 !* ***"
      ]
    },
    {
      "cell_type": "markdown",
      "metadata": {
        "id": "x9cEEACkPwAh"
      },
      "source": [
        "**1\\. csv 파일 내용을 json 파일 형식으로 변환하는 Python 코드를 작성하는 문제입니다.** \n",
        "* 결과 json 형식 구성은, \n",
        "* 아래 \\[샘플 1\\]에\\ 예시 파일을 다운로드해서 제시된 csv 파일과 변환 결과 json 형식을 비교해서 파악할 수 있으며, \n",
        "* key는 data_idx로, value로는 list 형태로 나머지 column을 key로 하고, 그 row들을 value로 해서 구성합니다.<br>\n",
        "* json 파일의 문자 인코딩은 UTF-8 입니다.\n",
        "\n",
        "위에 설명된 샘플 파일을 참고해서, \\[문제 1\\] 부분을 실행시켜, problem_1_input.csv 파일을 다운로드한 후, [결과물 제출] 부분에 json 파일을 생성하는 코드를 작성하세요. \n"
      ]
    },
    {
      "cell_type": "code",
      "metadata": {
        "id": "_4tWqXFyyoWk",
        "colab": {
          "base_uri": "https://localhost:8080/"
        },
        "outputId": "494b6372-a598-4822-d20f-500434d513b8"
      },
      "source": [
        "# [샘플 1]\n",
        "# 해당 부분 실행 후, 예시 입출력 파일을 확인해보실 수 있습니다.\n",
        "# 생성한 파일은 화면 왼쪽 아이콘 메뉴 중 폴더 모양 아이콘에서 확인할 수 있습니다. (위치: /content)\n",
        "\n",
        "!wget https://storage.googleapis.com/cw-downloads/coding_test/problem_1_sample_input.csv\n",
        "!wget https://storage.googleapis.com/cw-downloads/coding_test/problem_1_sample_output.json"
      ],
      "execution_count": null,
      "outputs": [
        {
          "output_type": "stream",
          "name": "stdout",
          "text": [
            "--2022-07-13 07:44:58--  https://storage.googleapis.com/cw-downloads/coding_test/problem_1_sample_input.csv\n",
            "Resolving storage.googleapis.com (storage.googleapis.com)... 74.125.134.128, 74.125.141.128, 173.194.210.128, ...\n",
            "Connecting to storage.googleapis.com (storage.googleapis.com)|74.125.134.128|:443... connected.\n",
            "HTTP request sent, awaiting response... 200 OK\n",
            "Length: 309 [text/csv]\n",
            "Saving to: ‘problem_1_sample_input.csv’\n",
            "\n",
            "problem_1_sample_in 100%[===================>]     309  --.-KB/s    in 0s      \n",
            "\n",
            "2022-07-13 07:44:59 (37.4 MB/s) - ‘problem_1_sample_input.csv’ saved [309/309]\n",
            "\n",
            "--2022-07-13 07:44:59--  https://storage.googleapis.com/cw-downloads/coding_test/problem_1_sample_output.json\n",
            "Resolving storage.googleapis.com (storage.googleapis.com)... 173.194.217.128, 108.177.13.128, 172.217.193.128, ...\n",
            "Connecting to storage.googleapis.com (storage.googleapis.com)|173.194.217.128|:443... connected.\n",
            "HTTP request sent, awaiting response... 200 OK\n",
            "Length: 1421 (1.4K) [application/json]\n",
            "Saving to: ‘problem_1_sample_output.json’\n",
            "\n",
            "problem_1_sample_ou 100%[===================>]   1.39K  --.-KB/s    in 0s      \n",
            "\n",
            "2022-07-13 07:45:00 (32.7 MB/s) - ‘problem_1_sample_output.json’ saved [1421/1421]\n",
            "\n"
          ]
        }
      ]
    },
    {
      "cell_type": "code",
      "metadata": {
        "id": "ibTUdL36zt9W",
        "colab": {
          "base_uri": "https://localhost:8080/"
        },
        "outputId": "604fbcef-312f-452d-c410-2b040a308664"
      },
      "source": [
        "# [문제 1]\n",
        "# csv 파일 다운로드 실행 명령어\n",
        "!wget https://storage.googleapis.com/cw-downloads/coding_test/problem_1_input.csv"
      ],
      "execution_count": null,
      "outputs": [
        {
          "output_type": "stream",
          "name": "stdout",
          "text": [
            "--2022-07-13 07:45:00--  https://storage.googleapis.com/cw-downloads/coding_test/problem_1_input.csv\n",
            "Resolving storage.googleapis.com (storage.googleapis.com)... 108.177.12.128, 172.217.193.128, 142.250.98.128, ...\n",
            "Connecting to storage.googleapis.com (storage.googleapis.com)|108.177.12.128|:443... connected.\n",
            "HTTP request sent, awaiting response... 200 OK\n",
            "Length: 695 [text/csv]\n",
            "Saving to: ‘problem_1_input.csv’\n",
            "\n",
            "problem_1_input.csv 100%[===================>]     695  --.-KB/s    in 0s      \n",
            "\n",
            "2022-07-13 07:45:01 (8.37 MB/s) - ‘problem_1_input.csv’ saved [695/695]\n",
            "\n"
          ]
        }
      ]
    },
    {
      "cell_type": "code",
      "metadata": {
        "id": "acpCkBTpYg5e"
      },
      "source": [
        "# [결과물 제출] 여기에 자유롭게 코드를 작성해서 수행하시면 됩니다.\n",
        "import json\n",
        "import pandas as pd\n",
        "\n",
        "\n",
        "def save_json(json_data, save_path):\n",
        "    with open(save_path, 'w') as f:\n",
        "        json.dump(json_data, f, indent='\\t', ensure_ascii=False)\n",
        "\n",
        "input_file_path = '/content/problem_1_input.csv'\n",
        "output_file_path = '/content/problem_1_output.json'\n",
        "\n",
        "input_csv_data = pd.read_csv(input_file_path)\n",
        "\n",
        "output_data = dict()\n",
        "for data_id in pd.unique(input_csv_data['data_id']):\n",
        "  data = input_csv_data.loc[input_csv_data['data_id']==data_id]\n",
        "  output_data[int(data_id)] = data[['성별', '나이(개월)', '촬영 장소']].to_dict('records')\n",
        "\n",
        "save_json(output_data, output_file_path)"
      ],
      "execution_count": null,
      "outputs": []
    },
    {
      "cell_type": "markdown",
      "metadata": {
        "id": "ZxAHu8SZRmSd"
      },
      "source": [
        "**2\\. json 형식의 파일을 csv 형식으로 변환하는 Python 코드를 작성하는 문제입니다.**<br>\n",
        "[문제 2] 부분을 실행시켜, problem_2_input.json 파일을 다운로드 받아, 'results' 부분을 보고, field에서 선택된 object와 color 정보가 담긴 csv파일을 출력하는 python 코드를 작성해 주세요. \n",
        "\n",
        "[샘플 2]부분의 예시 파일을 다운로드해서 json과, 결과 csv 파일 형식을 참고해 주세요.<br>\n",
        "\n",
        "* 출력할 때는 각 object의 label 값을 출력해야함.\n",
        "* label 값은 field 부분을 참고\n",
        "* color의 경우, false는 선택되지 않은 값을 뜻함.\n",
        "* color의 경우, 2가지 이상의 값을 가질 수 있음.<br> color 값 json 내용 예)\n",
        "```\n",
        "\"color\": [\n",
        "    1,\n",
        "    false,\n",
        "    3,\n",
        "    false,\n",
        "]\n",
        "```\n",
        "\n",
        "[결과물 제출]에 변환 코드를 작성해 주세요."
      ]
    },
    {
      "cell_type": "code",
      "metadata": {
        "id": "UrXPLuos2S2g",
        "colab": {
          "base_uri": "https://localhost:8080/"
        },
        "outputId": "541ba0a3-80df-4dc6-92bf-a0c46be3a165"
      },
      "source": [
        "# [샘플 2]\n",
        "# 해당 부분 실행 후, 예시 입출력 파일을 확인해보실 수 있습니다.\n",
        "# 생성한 파일은 왼쪽 맨 아래 폴더 모양 아이콘에서 확인할 수 있습니다. (위치: /content)\n",
        "\n",
        "!wget https://storage.googleapis.com/cw-downloads/coding_test/problem_2_sample_input.json\n",
        "!wget https://storage.googleapis.com/cw-downloads/coding_test/problem_2_sample_output.csv"
      ],
      "execution_count": null,
      "outputs": [
        {
          "output_type": "stream",
          "name": "stdout",
          "text": [
            "--2022-07-13 09:25:37--  https://storage.googleapis.com/cw-downloads/coding_test/problem_2_sample_input.json\n",
            "Resolving storage.googleapis.com (storage.googleapis.com)... 173.194.212.128, 173.194.213.128, 173.194.215.128, ...\n",
            "Connecting to storage.googleapis.com (storage.googleapis.com)|173.194.212.128|:443... connected.\n",
            "HTTP request sent, awaiting response... 200 OK\n",
            "Length: 2737 (2.7K) [application/json]\n",
            "Saving to: ‘problem_2_sample_input.json’\n",
            "\n",
            "problem_2_sample_in 100%[===================>]   2.67K  --.-KB/s    in 0s      \n",
            "\n",
            "2022-07-13 09:25:38 (47.3 MB/s) - ‘problem_2_sample_input.json’ saved [2737/2737]\n",
            "\n",
            "--2022-07-13 09:25:38--  https://storage.googleapis.com/cw-downloads/coding_test/problem_2_sample_output.csv\n",
            "Resolving storage.googleapis.com (storage.googleapis.com)... 172.217.204.128, 142.250.98.128, 142.250.97.128, ...\n",
            "Connecting to storage.googleapis.com (storage.googleapis.com)|172.217.204.128|:443... connected.\n",
            "HTTP request sent, awaiting response... 200 OK\n",
            "Length: 63 [text/csv]\n",
            "Saving to: ‘problem_2_sample_output.csv’\n",
            "\n",
            "problem_2_sample_ou 100%[===================>]      63  --.-KB/s    in 0s      \n",
            "\n",
            "2022-07-13 09:25:39 (10.0 MB/s) - ‘problem_2_sample_output.csv’ saved [63/63]\n",
            "\n"
          ]
        }
      ]
    },
    {
      "cell_type": "code",
      "metadata": {
        "id": "LwyJJ8M73ROc",
        "colab": {
          "base_uri": "https://localhost:8080/"
        },
        "outputId": "cb310b43-9258-4e39-dbfb-53537878820e"
      },
      "source": [
        "# [문제 2]\n",
        "# 문제 json 파일 다운로드 실행 명령어\n",
        "!wget https://storage.googleapis.com/cw-downloads/coding_test/problem_2_input.json"
      ],
      "execution_count": null,
      "outputs": [
        {
          "output_type": "stream",
          "name": "stdout",
          "text": [
            "--2022-07-13 09:25:40--  https://storage.googleapis.com/cw-downloads/coding_test/problem_2_input.json\n",
            "Resolving storage.googleapis.com (storage.googleapis.com)... 172.217.193.128, 172.253.123.128, 142.250.97.128, ...\n",
            "Connecting to storage.googleapis.com (storage.googleapis.com)|172.217.193.128|:443... connected.\n",
            "HTTP request sent, awaiting response... 200 OK\n",
            "Length: 3081 (3.0K) [application/json]\n",
            "Saving to: ‘problem_2_input.json’\n",
            "\n",
            "problem_2_input.jso 100%[===================>]   3.01K  --.-KB/s    in 0s      \n",
            "\n",
            "2022-07-13 09:25:40 (26.3 MB/s) - ‘problem_2_input.json’ saved [3081/3081]\n",
            "\n"
          ]
        }
      ]
    },
    {
      "cell_type": "code",
      "metadata": {
        "id": "l-TjPIYKYptX"
      },
      "source": [
        "# [결과물 제출]\n",
        "# 여기에 자유롭게 코드를 작성해서 수행하시면 됩니다.\n",
        "import json\n",
        "import pandas as pd\n",
        "\n",
        "\n",
        "def load_json(path):\n",
        "    with open(path, 'r') as f:\n",
        "        datas = json.load(f)\n",
        "    return datas\n",
        "\n",
        "input_file_path = '/content/problem_2_input.json'\n",
        "output_file_path = '/content/problem_2_output.csv'\n",
        "\n",
        "json_data = load_json(input_file_path)\n",
        "\n",
        "obj_labels = json_data['fields'][0]['values']['children']\n",
        "color_labels = json_data['fields'][1]['values']['children']\n",
        "\n",
        "colors = {color['value']:color['label'] for color in color_labels}\n",
        "objs = {obj['value']:obj['label'] for obj in obj_labels}\n",
        "\n",
        "output = []\n",
        "results = json_data['results']\n",
        "for result in results:\n",
        "  obj_value = objs[result['object']]\n",
        "  color_value = ', '.join([colors[c] for c in result['color'] if c])\n",
        "  output.append({'object': obj_value, 'color': color_value})\n",
        "\n",
        "df_output = pd.json_normalize(output)\n",
        "df_output.to_csv(output_file_path)"
      ],
      "execution_count": null,
      "outputs": []
    },
    {
      "cell_type": "markdown",
      "metadata": {
        "id": "W9ZXbnIBSU65"
      },
      "source": [
        "**3\\. 배열 처리 알고리즘을 구현하는 문제입니다.**\n",
        "\n",
        "주어진 숫자 배열 **array**에서 \n",
        "* **i** 번째부터 **j** 번째까지 자르고 \n",
        "* 정렬 후, \n",
        "* **k** 번째에 있는 수를 구하는 문제입니다.\n",
        "\n",
        "예를 들어 주어진 array가 [1, 5, 2, 6, 3, 7, 4]이고, i = 2, j = 5, k = 3이라면,\n",
        "* array의 i=2 번째부터 j=5 번째까지 자르면 [5, 2, 6, 3]입니다.\n",
        "* 자른 부분 배열을 정렬하면 [2, 3, 5, 6]입니다.\n",
        "* 정렬된 부분 배열의 k=3 번째 숫자는 5입니다.\n",
        "\n",
        "\\[결과물 제출\\] 부분에 주어진 array와 commands 변수 활용해서 \"# TODO: \" 위치에 코드를 완성해 주세요:\n",
        "* 배열 array와\n",
        "* [i, j, k]를 원소로 하는 2차원 배열 commands가 매개변수로 주어질 때,\n",
        "* commands의 모든 원소에 대해 앞서 설명한 연산을 적용했을 때 나온 결과를 **배열에 담아** return 하는 함수 내용을 구현해주세요. \n",
        "* 작성 후 실행 시, 정답일 경우, \"정답입니다.\"라는 메세지가 나옵니다."
      ]
    },
    {
      "cell_type": "code",
      "metadata": {
        "id": "kxECjRwzH3ut",
        "colab": {
          "base_uri": "https://localhost:8080/"
        },
        "outputId": "5a6f2df4-67e4-4dc3-8ea1-9119ceb4d378"
      },
      "source": [
        "# [결과물 제출]\n",
        "# 아래 코드 중 \"# TODO:\" 부분에 자유롭게 코드를 작성해서 수행하시면 됩니다.\n",
        "array = [1, 5, 2, 6, 3, 7, 4]\n",
        "commands = [[2, 5, 3], [4, 4, 1], [1, 7, 3]]\n",
        "\n",
        "def solution(a, c):\n",
        "  answer = []\n",
        "  # TODO: 해당 함수를 구현해 주세요.\n",
        "  for i, j, k in commands:\n",
        "    a_cut = a[i-1:j]\n",
        "    a_cut.sort()\n",
        "    answer.append(a_cut[k-1])\n",
        "  return answer\n",
        "\n",
        "if solution(array, commands) == [5,6,3]:\n",
        "  print(\"정답입니다.\")\n",
        "else : \n",
        "  print(\"틀렸습니다.\")"
      ],
      "execution_count": null,
      "outputs": [
        {
          "output_type": "stream",
          "name": "stdout",
          "text": [
            "정답입니다.\n"
          ]
        }
      ]
    }
  ]
}